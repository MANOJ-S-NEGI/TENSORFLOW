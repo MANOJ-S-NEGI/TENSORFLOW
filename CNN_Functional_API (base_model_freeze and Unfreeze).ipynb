{
  "cells": [
    {
      "cell_type": "markdown",
      "metadata": {
        "id": "view-in-github",
        "colab_type": "text"
      },
      "source": [
        "<a href=\"https://colab.research.google.com/github/MANOJ-S-NEGI/TENSORFLOW/blob/main/CNN_Functional_API%20(base_model_freeze%20and%20Unfreeze).ipynb\" target=\"_parent\"><img src=\"https://colab.research.google.com/assets/colab-badge.svg\" alt=\"Open In Colab\"/></a>"
      ]
    },
    {
      "cell_type": "markdown",
      "metadata": {
        "id": "FckkcSA2_ORR"
      },
      "source": [
        "#INTRODUCTION:\n",
        "---\n",
        "\n",
        "\n",
        "\n",
        "### We're going to go through the follow with TensorFlow:\n",
        "\n",
        "Introduction to fine-tuning, a type of transfer learning to modify a pre-trained model to be more suited to your data Using the Keras Functional API (a differnt way to build models in Keras)\n",
        "\n",
        "```\n",
        "Building the transfer learning the feature extraction model:\n",
        "steps:\n",
        "✅create the base model.\n",
        "🧖{base_model=tf.keras.applications.efficientNetB0(include_Top=False}\n",
        "\n",
        "✅Freeze the base Model.\n",
        "🧖{base_model.training=False }\n",
        "\n",
        "✅Create the input layer.\n",
        "🧖 {input= tf.keras.layer.Input(shape=224,224,3),name-'Input Layer'}\n",
        "\n",
        "✅OPTIONAL:if using model with does not have inbuilt rescaling,then it need to\n",
        "   be normalize.\n",
        "🧖{tf.keras.layers.experimental.preprocessing.rescaling(1/255.)}\n",
        "\n",
        "✅Pass the Input to the base model.\n",
        "🧖{x=base_model(input,trainable=False)}\n",
        "\n",
        "✅Average pool the outputs of the base model (aggregate all the most important information, reduce number of computations)\n",
        "🧖{x = tf.keras.layers.lobalAveragePooling2Dname=\"global_average_pooling_layer\")(x)print(f\"After GlobalAveragePooling2D(): {x.shape}\")\n",
        "\n",
        "✅Create the output Layer:\n",
        "🧖{output=tf.keras.layers.Dense(10,activation='softmax')(x)}\n",
        "\n",
        "\n",
        "```\n",
        "fine-tuning transfer learning the pre-trained model weights from another model are unfrozen and tweaked during to better suit the data.\n",
        "\n",
        "**For feature extraction transfer learning:** we  only train the top 1-3 layers of a pre-trained model with our own data.\n",
        "\n",
        "**In fine-tuning transfer learning:** We might train 1-3+ layers of a pre-trained model (where the '+' indicates that many or all of the layers could be trained)."
      ]
    },
    {
      "cell_type": "markdown",
      "metadata": {
        "id": "q6jwpmoCG3dh"
      },
      "source": [
        "# Code Section:Feature Extraction and Fine Tuning.\n",
        "---\n"
      ]
    },
    {
      "cell_type": "code",
      "execution_count": 1,
      "metadata": {
        "id": "00kdnZlbJM4x"
      },
      "outputs": [],
      "source": [
        "import zipfile \n",
        "import tensorflow as tf\n",
        "import pandas as pd\n",
        "import numpy as np\n",
        "import tensorflow_hub as hub\n",
        "import os\n",
        "import matplotlib.pyplot as plt\n",
        "import pathlib\n",
        "import datetime"
      ]
    },
    {
      "cell_type": "code",
      "execution_count": 2,
      "metadata": {
        "colab": {
          "base_uri": "https://localhost:8080/"
        },
        "id": "VIU6Zy8R-MLG",
        "outputId": "3d868ab0-965e-414f-8cf0-f7ca7a26c1fe"
      },
      "outputs": [
        {
          "output_type": "stream",
          "name": "stdout",
          "text": [
            "--2022-02-14 13:23:32--  https://storage.googleapis.com/ztm_tf_course/food_vision/10_food_classes_10_percent.zip\n",
            "Resolving storage.googleapis.com (storage.googleapis.com)... 74.125.201.128, 74.125.69.128, 64.233.183.128, ...\n",
            "Connecting to storage.googleapis.com (storage.googleapis.com)|74.125.201.128|:443... connected.\n",
            "HTTP request sent, awaiting response... 200 OK\n",
            "Length: 168546183 (161M) [application/zip]\n",
            "Saving to: ‘10_food_classes_10_percent.zip’\n",
            "\n",
            "10_food_classes_10_ 100%[===================>] 160.74M   196MB/s    in 0.8s    \n",
            "\n",
            "2022-02-14 13:23:33 (196 MB/s) - ‘10_food_classes_10_percent.zip’ saved [168546183/168546183]\n",
            "\n"
          ]
        }
      ],
      "source": [
        "# Get 10% of the data of the 10 classes\n",
        "!wget https://storage.googleapis.com/ztm_tf_course/food_vision/10_food_classes_10_percent.zip \n",
        "## unzipping the file\n",
        "unzip=zipfile.ZipFile(\"10_food_classes_10_percent.zip\")\n",
        "unzip.extractall()\n",
        "unzip.close()\n"
      ]
    },
    {
      "cell_type": "code",
      "execution_count": 3,
      "metadata": {
        "colab": {
          "base_uri": "https://localhost:8080/"
        },
        "id": "fIclcaueKXri",
        "outputId": "076fb25c-3a7b-457b-d37c-afa6879f3624"
      },
      "outputs": [
        {
          "output_type": "stream",
          "name": "stdout",
          "text": [
            "List of Label from dir:\n",
            "\n",
            "chicken_wings\n",
            "pizza\n",
            "steak\n",
            "chicken_curry\n",
            "ice_cream\n",
            "ramen\n",
            "fried_rice\n",
            "hamburger\n",
            "sushi\n",
            "grilled_salmon\n"
          ]
        }
      ],
      "source": [
        "## setting dir path and checking the label from dir\n",
        "train_dir='10_food_classes_10_percent/train/'\n",
        "test_dir='10_food_classes_10_percent/test/'\n",
        "\n",
        "print(\"List of Label from dir:\\n\")\n",
        "for x in os.listdir(train_dir):\n",
        "    print(x)"
      ]
    },
    {
      "cell_type": "code",
      "execution_count": 4,
      "metadata": {
        "colab": {
          "base_uri": "https://localhost:8080/"
        },
        "id": "00gsjT36K-07",
        "outputId": "bcea5d01-576f-4601-dc65-cd35da70dc52"
      },
      "outputs": [
        {
          "output_type": "stream",
          "name": "stdout",
          "text": [
            "['chicken_curry' 'chicken_wings' 'fried_rice' 'grilled_salmon' 'hamburger'\n",
            " 'ice_cream' 'pizza' 'ramen' 'steak' 'sushi']\n"
          ]
        }
      ],
      "source": [
        "## importing the class name:\n",
        "data_dir=pathlib.Path(train_dir)\n",
        "class_label=np.array(sorted([i.name for i in data_dir.glob('*')]))\n",
        "print(class_label)"
      ]
    },
    {
      "cell_type": "code",
      "execution_count": 5,
      "metadata": {
        "colab": {
          "base_uri": "https://localhost:8080/"
        },
        "id": "neUA0pkbLg-v",
        "outputId": "4e84117e-10f0-497d-91f5-94d029732c0e"
      },
      "outputs": [
        {
          "output_type": "stream",
          "name": "stdout",
          "text": [
            "Found 750 files belonging to 10 classes.\n",
            "Found 2500 files belonging to 10 classes.\n"
          ]
        }
      ],
      "source": [
        "# creating the data input:\n",
        "train_data= tf.keras.preprocessing.image_dataset_from_directory(train_dir,\n",
        "                                                                label_mode=\"categorical\",\n",
        "                                                                batch_size=32,\n",
        "                                                                image_size=(224,224))\n",
        "\n",
        "\n",
        "test_data= tf.keras.preprocessing.image_dataset_from_directory(test_dir,\n",
        "                                                                label_mode=\"categorical\",\n",
        "                                                                batch_size=32,\n",
        "                                                                image_size=(224,224))\n"
      ]
    },
    {
      "cell_type": "code",
      "execution_count": 6,
      "metadata": {
        "id": "mijSh20lSx20",
        "colab": {
          "base_uri": "https://localhost:8080/"
        },
        "outputId": "02376685-af6f-4e42-9468-be92df8b8b02"
      },
      "outputs": [
        {
          "output_type": "stream",
          "name": "stdout",
          "text": [
            "tf.Tensor(\n",
            "[[[[2.26984695e+02 2.44397949e+02 1.98158173e+02]\n",
            "   [2.25857132e+02 2.43857132e+02 1.94000000e+02]\n",
            "   [2.29857132e+02 2.49933670e+02 1.96704086e+02]\n",
            "   ...\n",
            "   [1.83494812e+02 2.35066284e+02 1.99280548e+02]\n",
            "   [1.82188797e+02 2.36188797e+02 2.00188797e+02]\n",
            "   [1.80928467e+02 2.36101974e+02 1.99515228e+02]]\n",
            "\n",
            "  [[2.28903061e+02 2.48903061e+02 1.96096939e+02]\n",
            "   [2.26285706e+02 2.46285706e+02 1.93295914e+02]\n",
            "   [2.30586731e+02 2.51229584e+02 1.99872452e+02]\n",
            "   ...\n",
            "   [1.86387680e+02 2.36499939e+02 2.01015289e+02]\n",
            "   [1.85846954e+02 2.37857162e+02 2.01857162e+02]\n",
            "   [1.86025436e+02 2.38831635e+02 2.02831635e+02]]\n",
            "\n",
            "  [[2.23714294e+02 2.48928574e+02 1.90285721e+02]\n",
            "   [2.23000000e+02 2.46484680e+02 1.90142853e+02]\n",
            "   [2.27260193e+02 2.49596939e+02 2.00903061e+02]\n",
            "   ...\n",
            "   [1.89336716e+02 2.38188812e+02 2.02806183e+02]\n",
            "   [1.89943863e+02 2.39301010e+02 2.04086731e+02]\n",
            "   [1.88147934e+02 2.37505081e+02 2.02719360e+02]]\n",
            "\n",
            "  ...\n",
            "\n",
            "  [[2.42000061e+02 2.52428589e+02 4.22244301e+01]\n",
            "   [2.43484741e+02 2.52857162e+02 4.04285278e+01]\n",
            "   [2.45571472e+02 2.51974548e+02 3.61224136e+01]\n",
            "   ...\n",
            "   [2.39785736e+02 2.42000000e+02 9.33149242e+00]\n",
            "   [2.39000000e+02 2.46872482e+02 5.04076576e+00]\n",
            "   [2.39137741e+02 2.48494919e+02 1.04847336e+01]]\n",
            "\n",
            "  [[2.44382660e+02 2.51428589e+02 3.36224327e+01]\n",
            "   [2.40005066e+02 2.47938751e+02 2.70050488e+01]\n",
            "   [2.45499939e+02 2.51285645e+02 2.87295036e+01]\n",
            "   ...\n",
            "   [2.41714294e+02 2.42285767e+02 2.85693359e+00]\n",
            "   [2.41209229e+02 2.45852020e+02 6.63377419e-02]\n",
            "   [2.42071442e+02 2.45760162e+02 9.92864990e+00]]\n",
            "\n",
            "  [[2.44459152e+02 2.52459152e+02 2.99183178e+01]\n",
            "   [2.41520538e+02 2.49852203e+02 2.42807083e+01]\n",
            "   [2.41566452e+02 2.49061386e+02 1.95766068e+01]\n",
            "   ...\n",
            "   [2.42347031e+02 2.42653183e+02 3.15275550e+00]\n",
            "   [2.45071533e+02 2.43331665e+02 0.00000000e+00]\n",
            "   [2.45071533e+02 2.40642822e+02 6.14306641e+00]]]\n",
            "\n",
            "\n",
            " [[[7.57388382e+01 7.07388382e+01 4.17388382e+01]\n",
            "   [6.25982132e+01 5.85982132e+01 2.95982132e+01]\n",
            "   [5.61283493e+01 5.51283493e+01 2.71283493e+01]\n",
            "   ...\n",
            "   [8.52156906e+01 8.40727463e+01 4.61330109e+01]\n",
            "   [8.83170242e+01 8.31026993e+01 4.43638535e+01]\n",
            "   [1.02349533e+02 9.15849609e+01 5.24544029e+01]]\n",
            "\n",
            "  [[7.58482132e+01 7.08482132e+01 3.90044670e+01]\n",
            "   [6.12767868e+01 5.82767868e+01 2.71450882e+01]\n",
            "   [6.26808052e+01 6.16808052e+01 3.16808052e+01]\n",
            "   ...\n",
            "   [7.73506470e+01 7.52077026e+01 4.38371887e+01]\n",
            "   [8.75992584e+01 8.15880966e+01 4.94206810e+01]\n",
            "   [8.52267303e+01 7.54900665e+01 4.26351814e+01]]\n",
            "\n",
            "  [[8.02031250e+01 7.62031250e+01 3.90000000e+01]\n",
            "   [7.21685257e+01 6.93716507e+01 3.37622757e+01]\n",
            "   [6.66149521e+01 6.64441910e+01 3.26372757e+01]\n",
            "   ...\n",
            "   [7.53895950e+01 7.20323868e+01 4.44118690e+01]\n",
            "   [8.23024750e+01 7.71886139e+01 4.82455444e+01]\n",
            "   [8.78449249e+01 7.84542999e+01 5.10480537e+01]]\n",
            "\n",
            "  ...\n",
            "\n",
            "  [[8.22857132e+01 7.42857132e+01 3.52857132e+01]\n",
            "   [8.01997757e+01 7.51997757e+01 3.51997757e+01]\n",
            "   [7.45881729e+01 7.18024597e+01 3.08024559e+01]\n",
            "   ...\n",
            "   [1.23918571e+02 1.12796875e+02 6.27209702e+01]\n",
            "   [1.21360519e+02 1.08431961e+02 5.50747528e+01]\n",
            "   [1.26845947e+02 1.11845947e+02 5.41315918e+01]]\n",
            "\n",
            "  [[8.58772354e+01 8.09553604e+01 3.87209816e+01]\n",
            "   [8.28247757e+01 7.79029007e+01 3.56685257e+01]\n",
            "   [8.02254486e+01 7.76540222e+01 3.42834854e+01]\n",
            "   ...\n",
            "   [1.27942047e+02 1.16000061e+02 6.86462250e+01]\n",
            "   [1.33401794e+02 1.17473228e+02 6.53314514e+01]\n",
            "   [1.35334808e+02 1.18691994e+02 6.16204605e+01]]\n",
            "\n",
            "  [[8.72522278e+01 8.32522278e+01 3.82522316e+01]\n",
            "   [8.22533417e+01 7.92075882e+01 3.42075882e+01]\n",
            "   [8.09375000e+01 7.89308014e+01 3.27154007e+01]\n",
            "   ...\n",
            "   [1.25426445e+02 1.11358330e+02 6.72913437e+01]\n",
            "   [1.38994415e+02 1.23014511e+02 7.17544174e+01]\n",
            "   [1.39796890e+02 1.22306961e+02 6.56205063e+01]]]\n",
            "\n",
            "\n",
            " [[[1.69515305e+01 1.49515305e+01 1.59515305e+01]\n",
            "   [8.46683407e+00 6.46683407e+00 7.46683407e+00]\n",
            "   [1.70564423e+01 1.30564413e+01 1.40564413e+01]\n",
            "   ...\n",
            "   [6.09017410e+01 2.66947842e+01 2.31565666e+00]\n",
            "   [6.02143250e+01 2.82143250e+01 7.21432495e+00]\n",
            "   [6.50000000e+01 3.33571777e+01 1.26202774e+01]]\n",
            "\n",
            "  [[1.72547836e+01 1.52547836e+01 1.62547836e+01]\n",
            "   [1.03456621e+01 8.34566212e+00 9.34566212e+00]\n",
            "   [1.40535717e+01 1.00535717e+01 1.10535717e+01]\n",
            "   ...\n",
            "   [5.90899162e+01 2.41348724e+01 2.00000000e+00]\n",
            "   [6.10045052e+01 2.90045033e+01 6.53704977e+00]\n",
            "   [6.65803604e+01 3.49375343e+01 1.39375343e+01]]\n",
            "\n",
            "  [[1.68587379e+01 1.48587379e+01 1.58587370e+01]\n",
            "   [1.16827173e+01 9.68271732e+00 1.06827173e+01]\n",
            "   [1.08482151e+01 6.84821463e+00 7.84821463e+00]\n",
            "   ...\n",
            "   [6.02490501e+01 2.52490501e+01 3.24905038e+00]\n",
            "   [6.52140121e+01 3.32140160e+01 1.02140150e+01]\n",
            "   [7.13169632e+01 3.97873535e+01 1.71620731e+01]]\n",
            "\n",
            "  ...\n",
            "\n",
            "  [[2.13877853e+02 2.10592133e+02 1.98235001e+02]\n",
            "   [2.05308014e+02 2.02308014e+02 1.87308014e+02]\n",
            "   [1.93708847e+02 1.88708847e+02 1.69708847e+02]\n",
            "   ...\n",
            "   [8.50000000e+01 7.60000000e+01 5.90000000e+01]\n",
            "   [8.85312805e+01 7.96741638e+01 6.26027222e+01]\n",
            "   [9.61445236e+01 8.91445236e+01 7.11445236e+01]]\n",
            "\n",
            "  [[2.11504440e+02 2.08218735e+02 1.95861588e+02]\n",
            "   [2.01008896e+02 1.98008896e+02 1.83008896e+02]\n",
            "   [1.91147308e+02 1.86147308e+02 1.67147308e+02]\n",
            "   ...\n",
            "   [8.50449600e+01 7.60449600e+01 5.90449600e+01]\n",
            "   [8.71993332e+01 7.83422165e+01 6.12707748e+01]\n",
            "   [9.37867432e+01 8.67867432e+01 6.87867432e+01]]\n",
            "\n",
            "  [[2.10977356e+02 2.07691650e+02 1.95334503e+02]\n",
            "   [1.98691971e+02 1.95691971e+02 1.80691971e+02]\n",
            "   [1.90514984e+02 1.85514984e+02 1.66514984e+02]\n",
            "   ...\n",
            "   [8.52142639e+01 7.62142639e+01 5.92142639e+01]\n",
            "   [8.64062805e+01 7.75491638e+01 6.04777222e+01]\n",
            "   [9.17146530e+01 8.47146530e+01 6.67146530e+01]]]\n",
            "\n",
            "\n",
            " ...\n",
            "\n",
            "\n",
            " [[[1.05714279e+02 8.47142792e+01 5.57142868e+01]\n",
            "   [1.05045921e+02 8.40459213e+01 5.70459175e+01]\n",
            "   [9.90000000e+01 7.63571396e+01 5.27857170e+01]\n",
            "   ...\n",
            "   [1.88622589e+01 1.48622589e+01 3.86225891e+00]\n",
            "   [1.90255146e+01 1.50255146e+01 4.02551508e+00]\n",
            "   [1.93571434e+01 1.53571424e+01 4.35714293e+00]]\n",
            "\n",
            "  [[1.07331627e+02 8.62602005e+01 5.94744911e+01]\n",
            "   [1.08928574e+02 8.69285736e+01 6.29948997e+01]\n",
            "   [1.03015305e+02 8.03724442e+01 5.80153046e+01]\n",
            "   ...\n",
            "   [2.00000000e+01 1.60000000e+01 5.00000000e+00]\n",
            "   [2.00714283e+01 1.60714283e+01 5.07142830e+00]\n",
            "   [2.10000000e+01 1.70000000e+01 6.00000000e+00]]\n",
            "\n",
            "  [[1.07785713e+02 8.57857132e+01 6.25714302e+01]\n",
            "   [1.09714287e+02 8.77142868e+01 6.61581650e+01]\n",
            "   [1.05882652e+02 8.32397995e+01 6.21173477e+01]\n",
            "   ...\n",
            "   [2.07857151e+01 1.67857151e+01 5.78571415e+00]\n",
            "   [2.10000000e+01 1.70000000e+01 6.00000000e+00]\n",
            "   [2.17857151e+01 1.77857151e+01 6.78571415e+00]]\n",
            "\n",
            "  ...\n",
            "\n",
            "  [[4.35714293e+00 5.35714293e+00 3.57142806e-01]\n",
            "   [4.00000000e+00 5.00000000e+00 0.00000000e+00]\n",
            "   [6.61734009e+00 7.61734009e+00 2.61734009e+00]\n",
            "   ...\n",
            "   [8.00000000e+00 8.00000000e+00 0.00000000e+00]\n",
            "   [8.00000000e+00 8.00000000e+00 0.00000000e+00]\n",
            "   [8.00000000e+00 8.00000000e+00 0.00000000e+00]]\n",
            "\n",
            "  [[4.35714293e+00 5.35714293e+00 3.57142806e-01]\n",
            "   [4.00000000e+00 5.00000000e+00 0.00000000e+00]\n",
            "   [5.80101633e+00 6.80101633e+00 1.80101657e+00]\n",
            "   ...\n",
            "   [8.00000000e+00 8.00000000e+00 0.00000000e+00]\n",
            "   [8.00000000e+00 8.00000000e+00 0.00000000e+00]\n",
            "   [8.00000000e+00 8.00000000e+00 0.00000000e+00]]\n",
            "\n",
            "  [[5.35714293e+00 6.35714293e+00 1.35714281e+00]\n",
            "   [4.00000000e+00 5.00000000e+00 0.00000000e+00]\n",
            "   [4.78571415e+00 5.78571415e+00 7.85714149e-01]\n",
            "   ...\n",
            "   [7.00000000e+00 7.00000000e+00 0.00000000e+00]\n",
            "   [7.00000000e+00 7.00000000e+00 0.00000000e+00]\n",
            "   [7.00000000e+00 7.00000000e+00 0.00000000e+00]]]\n",
            "\n",
            "\n",
            " [[[2.54000000e+02 2.54000000e+02 2.54000000e+02]\n",
            "   [2.54000000e+02 2.54000000e+02 2.54000000e+02]\n",
            "   [2.54000000e+02 2.54000000e+02 2.54000000e+02]\n",
            "   ...\n",
            "   [1.58785721e+02 1.10785713e+02 7.07857132e+01]\n",
            "   [1.57357132e+02 1.09357132e+02 7.13571320e+01]\n",
            "   [1.55428574e+02 1.07428574e+02 6.94285736e+01]]\n",
            "\n",
            "  [[2.54000000e+02 2.54000000e+02 2.54000000e+02]\n",
            "   [2.54000000e+02 2.54000000e+02 2.54000000e+02]\n",
            "   [2.54000000e+02 2.54000000e+02 2.54000000e+02]\n",
            "   ...\n",
            "   [1.67270386e+02 1.18270386e+02 7.82703857e+01]\n",
            "   [1.67132660e+02 1.18132668e+02 7.81326675e+01]\n",
            "   [1.67928574e+02 1.18928574e+02 7.89285736e+01]]\n",
            "\n",
            "  [[2.54000000e+02 2.54000000e+02 2.54000000e+02]\n",
            "   [2.54000000e+02 2.54000000e+02 2.54000000e+02]\n",
            "   [2.54000000e+02 2.54000000e+02 2.54000000e+02]\n",
            "   ...\n",
            "   [1.64214264e+02 1.15214264e+02 7.48316269e+01]\n",
            "   [1.63841843e+02 1.14841850e+02 7.46275635e+01]\n",
            "   [1.65647964e+02 1.16647964e+02 7.64336777e+01]]\n",
            "\n",
            "  ...\n",
            "\n",
            "  [[2.55000000e+02 2.50918427e+02 2.33204178e+02]\n",
            "   [2.34979919e+02 2.24530930e+02 2.01459610e+02]\n",
            "   [2.16806183e+02 2.02974503e+02 1.91275574e+02]\n",
            "   ...\n",
            "   [2.14902969e+02 1.78734604e+02 1.54306076e+02]\n",
            "   [2.11443893e+02 1.79530640e+02 1.56627609e+02]\n",
            "   [2.04433548e+02 1.76714203e+02 1.55499939e+02]]\n",
            "\n",
            "  [[1.90917526e+02 1.78917526e+02 1.65009384e+02]\n",
            "   [1.32974274e+02 1.19907936e+02 1.11321274e+02]\n",
            "   [2.02847107e+02 1.88418533e+02 1.77071609e+02]\n",
            "   ...\n",
            "   [2.17928436e+02 1.79300888e+02 1.55729538e+02]\n",
            "   [2.07637695e+02 1.75923462e+02 1.54923462e+02]\n",
            "   [2.01999878e+02 1.73806076e+02 1.55402985e+02]]\n",
            "\n",
            "  [[1.23448517e+02 1.10805664e+02 1.00963852e+02]\n",
            "   [1.27076996e+02 1.12745331e+02 1.13694412e+02]\n",
            "   [2.10494781e+02 1.95999863e+02 1.85265198e+02]\n",
            "   ...\n",
            "   [2.21412994e+02 1.80198730e+02 1.57555939e+02]\n",
            "   [2.05571350e+02 1.73857117e+02 1.52857117e+02]\n",
            "   [1.93443710e+02 1.66800888e+02 1.48974457e+02]]]\n",
            "\n",
            "\n",
            " [[[9.54132614e+01 1.95561218e+01 1.84183657e+00]\n",
            "   [9.46683655e+01 2.29540825e+01 7.57142925e+00]\n",
            "   [8.89234695e+01 2.60714283e+01 1.23673468e+01]\n",
            "   ...\n",
            "   [4.15816383e+01 1.10101671e+01 1.60101662e+01]\n",
            "   [4.14388313e+01 9.51027203e+00 1.21530638e+01]\n",
            "   [4.43621483e+01 1.33621473e+01 1.10049696e+01]]\n",
            "\n",
            "  [[7.13775406e+01 2.29744892e+01 1.27091846e+01]\n",
            "   [6.64948883e+01 2.24132633e+01 1.49948978e+01]\n",
            "   [5.97142792e+01 2.07704067e+01 1.56989784e+01]\n",
            "   ...\n",
            "   [3.94286346e+01 7.64290047e+00 1.28571644e+01]\n",
            "   [4.50611954e+01 1.30662985e+01 1.59081068e+01]\n",
            "   [4.37193604e+01 9.71936035e+00 8.36218262e+00]]\n",
            "\n",
            "  [[4.36326523e+01 2.68469372e+01 2.65612240e+01]\n",
            "   [4.13979568e+01 2.53265305e+01 2.59693871e+01]\n",
            "   [4.24030609e+01 2.80255108e+01 3.03571434e+01]\n",
            "   ...\n",
            "   [4.26632576e+01 8.16830635e+00 1.36632118e+01]\n",
            "   [3.79796944e+01 3.97969294e+00 4.97969294e+00]\n",
            "   [4.29487648e+01 8.94876480e+00 7.94876480e+00]]\n",
            "\n",
            "  ...\n",
            "\n",
            "  [[5.49745064e+01 4.52703896e+01 6.55100775e+00]\n",
            "   [5.22449150e+01 3.98877068e+01 4.67344284e+00]\n",
            "   [5.62653351e+01 4.39081268e+01 1.00306091e+01]\n",
            "   ...\n",
            "   [1.69050827e+02 1.65387527e+02 1.27387527e+02]\n",
            "   [1.73984634e+02 1.71770370e+02 1.34872299e+02]\n",
            "   [1.73009995e+02 1.69795731e+02 1.36081314e+02]]\n",
            "\n",
            "  [[5.57295799e+01 4.17295799e+01 6.72958136e+00]\n",
            "   [5.65664024e+01 4.25664024e+01 7.56640339e+00]\n",
            "   [6.23367577e+01 4.73061409e+01 1.47500200e+01]\n",
            "   ...\n",
            "   [1.69642731e+02 1.66214203e+02 1.25856995e+02]\n",
            "   [1.68923462e+02 1.68066345e+02 1.19622375e+02]\n",
            "   [1.76000000e+02 1.76071442e+02 1.23591759e+02]]\n",
            "\n",
            "  [[5.86429634e+01 4.26429634e+01 8.64296150e+00]\n",
            "   [6.33162308e+01 4.73162308e+01 1.43162308e+01]\n",
            "   [6.83827591e+01 5.13827591e+01 2.13827591e+01]\n",
            "   ...\n",
            "   [1.66713959e+02 1.63071167e+02 1.21571014e+02]\n",
            "   [1.70734634e+02 1.69806076e+02 1.14663078e+02]\n",
            "   [1.66560745e+02 1.69147522e+02 1.02718811e+02]]]], shape=(32, 224, 224, 3), dtype=float32) tf.Tensor(\n",
            "[[0. 0. 0. 0. 0. 0. 1. 0. 0. 0.]\n",
            " [0. 0. 0. 0. 1. 0. 0. 0. 0. 0.]\n",
            " [1. 0. 0. 0. 0. 0. 0. 0. 0. 0.]\n",
            " [0. 0. 0. 0. 0. 0. 0. 0. 0. 1.]\n",
            " [0. 0. 0. 0. 0. 0. 0. 1. 0. 0.]\n",
            " [0. 0. 0. 0. 0. 0. 0. 0. 1. 0.]\n",
            " [0. 0. 1. 0. 0. 0. 0. 0. 0. 0.]\n",
            " [0. 0. 0. 1. 0. 0. 0. 0. 0. 0.]\n",
            " [0. 0. 1. 0. 0. 0. 0. 0. 0. 0.]\n",
            " [0. 1. 0. 0. 0. 0. 0. 0. 0. 0.]\n",
            " [0. 0. 0. 0. 0. 0. 1. 0. 0. 0.]\n",
            " [0. 0. 0. 1. 0. 0. 0. 0. 0. 0.]\n",
            " [1. 0. 0. 0. 0. 0. 0. 0. 0. 0.]\n",
            " [1. 0. 0. 0. 0. 0. 0. 0. 0. 0.]\n",
            " [0. 0. 0. 0. 1. 0. 0. 0. 0. 0.]\n",
            " [0. 0. 0. 1. 0. 0. 0. 0. 0. 0.]\n",
            " [0. 0. 0. 0. 0. 0. 0. 1. 0. 0.]\n",
            " [0. 0. 0. 0. 0. 1. 0. 0. 0. 0.]\n",
            " [0. 0. 0. 0. 0. 0. 0. 0. 0. 1.]\n",
            " [0. 0. 0. 0. 0. 0. 0. 0. 1. 0.]\n",
            " [0. 0. 0. 0. 0. 0. 0. 0. 0. 1.]\n",
            " [0. 1. 0. 0. 0. 0. 0. 0. 0. 0.]\n",
            " [0. 0. 0. 0. 1. 0. 0. 0. 0. 0.]\n",
            " [0. 0. 0. 0. 0. 0. 1. 0. 0. 0.]\n",
            " [0. 0. 0. 0. 0. 0. 0. 0. 1. 0.]\n",
            " [0. 0. 0. 0. 1. 0. 0. 0. 0. 0.]\n",
            " [1. 0. 0. 0. 0. 0. 0. 0. 0. 0.]\n",
            " [0. 0. 0. 0. 0. 1. 0. 0. 0. 0.]\n",
            " [0. 0. 0. 0. 0. 0. 0. 1. 0. 0.]\n",
            " [0. 0. 0. 0. 0. 0. 0. 1. 0. 0.]\n",
            " [0. 0. 0. 0. 1. 0. 0. 0. 0. 0.]\n",
            " [0. 1. 0. 0. 0. 0. 0. 0. 0. 0.]], shape=(32, 10), dtype=float32)\n"
          ]
        }
      ],
      "source": [
        "for image,label in train_data.take(1):\n",
        "    print(image,label)"
      ]
    },
    {
      "cell_type": "code",
      "execution_count": 7,
      "metadata": {
        "colab": {
          "base_uri": "https://localhost:8080/"
        },
        "id": "Hl-k4SzQNl7p",
        "outputId": "e2f1976d-f2e5-4e68-9081-9b8665739272"
      },
      "outputs": [
        {
          "output_type": "stream",
          "name": "stdout",
          "text": [
            "Downloading data from https://storage.googleapis.com/keras-applications/efficientnetb0_notop.h5\n",
            "16711680/16705208 [==============================] - 0s 0us/step\n",
            "16719872/16705208 [==============================] - 0s 0us/step\n",
            "Shape after base_model: (None, 7, 7, 1280)\n",
            "After GlobalAveragePooling2D(): (None, 1280)\n"
          ]
        }
      ],
      "source": [
        "# creating the model layering.\n",
        "\n",
        "base_model=tf.keras.applications.EfficientNetB0(include_top=False)\n",
        "base_model.trainable=False\n",
        "\n",
        "input=   tf.keras.layers.Input(shape=(224,224,3),name=\"input_layer\")\n",
        "\n",
        "x=base_model(input ,training =False)\n",
        "print(f\"Shape after base_model: {x.shape}\")\n",
        "\n",
        "x = tf.keras.layers.GlobalAveragePooling2D()(x)\n",
        "print(f\"After GlobalAveragePooling2D(): {x.shape}\")\n",
        "\n",
        "output=tf.keras.layers.Dense(10,activation ='softmax')(x)\n",
        "\n",
        "## creating the model_0\n",
        "model_0=tf.keras.Model(input,output)\n"
      ]
    },
    {
      "cell_type": "code",
      "execution_count": 8,
      "metadata": {
        "colab": {
          "base_uri": "https://localhost:8080/"
        },
        "id": "055DBVwwdwfs",
        "outputId": "be004689-9829-460b-bc29-ccbfe3141019"
      },
      "outputs": [
        {
          "output_type": "stream",
          "name": "stderr",
          "text": [
            "/usr/local/lib/python3.7/dist-packages/keras/engine/functional.py:1410: CustomMaskWarning: Custom mask layers require a config and must override get_config. When loading, the custom mask layer must be passed to the custom_objects argument.\n",
            "  layer_config = serialize_layer_fn(layer)\n"
          ]
        },
        {
          "output_type": "stream",
          "name": "stdout",
          "text": [
            "Epoch 1/5\n",
            "24/24 [==============================] - 39s 675ms/step - loss: 1.8911 - accuracy: 0.4053 - val_loss: 1.3343 - val_accuracy: 0.7160\n",
            "Epoch 2/5\n",
            "24/24 [==============================] - 14s 567ms/step - loss: 1.1145 - accuracy: 0.7587 - val_loss: 0.9090 - val_accuracy: 0.8004\n",
            "Epoch 3/5\n",
            "24/24 [==============================] - 14s 566ms/step - loss: 0.8041 - accuracy: 0.8227 - val_loss: 0.7415 - val_accuracy: 0.8220\n",
            "Epoch 4/5\n",
            "24/24 [==============================] - 14s 565ms/step - loss: 0.6527 - accuracy: 0.8547 - val_loss: 0.6532 - val_accuracy: 0.8332\n",
            "Epoch 5/5\n",
            "24/24 [==============================] - 14s 565ms/step - loss: 0.5571 - accuracy: 0.8760 - val_loss: 0.6056 - val_accuracy: 0.8364\n"
          ]
        }
      ],
      "source": [
        "cb=(\"10_food_classes_10_percent\"+datetime.datetime.now().strftime('%Y%m%d-%H%M%S'))\n",
        "## compiling the model:\n",
        "\n",
        "model_0.compile(loss=tf.keras.losses.CategoricalCrossentropy(),\n",
        "                optimizer=tf.keras.optimizers.Adam(),\n",
        "                metrics=[\"accuracy\"])\n",
        "\n",
        "## fitting the model:\n",
        "history_model_0=model_0.fit(train_data,\n",
        "                             epochs=5,\n",
        "                            validation_data=test_data,\n",
        "                            validation_steps=len(test_data),\n",
        "                            steps_per_epoch=len(train_data),\n",
        "                            callbacks=[tf.keras.callbacks.TensorBoard(cb)])\n"
      ]
    },
    {
      "cell_type": "code",
      "execution_count": 9,
      "metadata": {
        "colab": {
          "base_uri": "https://localhost:8080/"
        },
        "id": "SE6EkCGufIhD",
        "outputId": "318d9723-de96-4825-8d80-401b96f9a28f"
      },
      "outputs": [
        {
          "output_type": "stream",
          "name": "stdout",
          "text": [
            "79/79 [==============================] - 11s 127ms/step - loss: 0.6056 - accuracy: 0.8364\n"
          ]
        },
        {
          "output_type": "execute_result",
          "data": {
            "text/plain": [
              "[0.6055771112442017, 0.8363999724388123]"
            ]
          },
          "metadata": {},
          "execution_count": 9
        }
      ],
      "source": [
        "model_0.evaluate(test_data)"
      ]
    },
    {
      "cell_type": "code",
      "execution_count": 10,
      "metadata": {
        "colab": {
          "base_uri": "https://localhost:8080/"
        },
        "id": "AbMwWy7JlQ_R",
        "outputId": "7ce140e9-2624-483a-f435-bc53dc6a7dae"
      },
      "outputs": [
        {
          "output_type": "stream",
          "name": "stdout",
          "text": [
            "Model: \"model\"\n",
            "_________________________________________________________________\n",
            " Layer (type)                Output Shape              Param #   \n",
            "=================================================================\n",
            " input_layer (InputLayer)    [(None, 224, 224, 3)]     0         \n",
            "                                                                 \n",
            " efficientnetb0 (Functional)  (None, None, None, 1280)  4049571  \n",
            "                                                                 \n",
            " global_average_pooling2d (G  (None, 1280)             0         \n",
            " lobalAveragePooling2D)                                          \n",
            "                                                                 \n",
            " dense (Dense)               (None, 10)                12810     \n",
            "                                                                 \n",
            "=================================================================\n",
            "Total params: 4,062,381\n",
            "Trainable params: 12,810\n",
            "Non-trainable params: 4,049,571\n",
            "_________________________________________________________________\n"
          ]
        }
      ],
      "source": [
        "model_0.summary()"
      ]
    },
    {
      "cell_type": "code",
      "execution_count": 11,
      "metadata": {
        "colab": {
          "base_uri": "https://localhost:8080/",
          "height": 232
        },
        "id": "f3XZ2x1-lTEh",
        "outputId": "ffbc580f-1c1a-48f4-8b1d-67cbda261f05"
      },
      "outputs": [
        {
          "output_type": "execute_result",
          "data": {
            "text/html": [
              "\n",
              "  <div id=\"df-402dc4f4-367e-4875-8d99-e1588f6bfa8c\">\n",
              "    <div class=\"colab-df-container\">\n",
              "      <div>\n",
              "<style scoped>\n",
              "    .dataframe tbody tr th:only-of-type {\n",
              "        vertical-align: middle;\n",
              "    }\n",
              "\n",
              "    .dataframe tbody tr th {\n",
              "        vertical-align: top;\n",
              "    }\n",
              "\n",
              "    .dataframe thead th {\n",
              "        text-align: right;\n",
              "    }\n",
              "</style>\n",
              "<table border=\"1\" class=\"dataframe\">\n",
              "  <thead>\n",
              "    <tr style=\"text-align: right;\">\n",
              "      <th></th>\n",
              "      <th>loss</th>\n",
              "      <th>accuracy</th>\n",
              "      <th>val_loss</th>\n",
              "      <th>val_accuracy</th>\n",
              "    </tr>\n",
              "  </thead>\n",
              "  <tbody>\n",
              "    <tr>\n",
              "      <th>0</th>\n",
              "      <td>1.891123</td>\n",
              "      <td>0.405333</td>\n",
              "      <td>1.334322</td>\n",
              "      <td>0.7160</td>\n",
              "    </tr>\n",
              "    <tr>\n",
              "      <th>1</th>\n",
              "      <td>1.114512</td>\n",
              "      <td>0.758667</td>\n",
              "      <td>0.908951</td>\n",
              "      <td>0.8004</td>\n",
              "    </tr>\n",
              "    <tr>\n",
              "      <th>2</th>\n",
              "      <td>0.804084</td>\n",
              "      <td>0.822667</td>\n",
              "      <td>0.741489</td>\n",
              "      <td>0.8220</td>\n",
              "    </tr>\n",
              "    <tr>\n",
              "      <th>3</th>\n",
              "      <td>0.652732</td>\n",
              "      <td>0.854667</td>\n",
              "      <td>0.653200</td>\n",
              "      <td>0.8332</td>\n",
              "    </tr>\n",
              "    <tr>\n",
              "      <th>4</th>\n",
              "      <td>0.557097</td>\n",
              "      <td>0.876000</td>\n",
              "      <td>0.605577</td>\n",
              "      <td>0.8364</td>\n",
              "    </tr>\n",
              "  </tbody>\n",
              "</table>\n",
              "</div>\n",
              "      <button class=\"colab-df-convert\" onclick=\"convertToInteractive('df-402dc4f4-367e-4875-8d99-e1588f6bfa8c')\"\n",
              "              title=\"Convert this dataframe to an interactive table.\"\n",
              "              style=\"display:none;\">\n",
              "        \n",
              "  <svg xmlns=\"http://www.w3.org/2000/svg\" height=\"24px\"viewBox=\"0 0 24 24\"\n",
              "       width=\"24px\">\n",
              "    <path d=\"M0 0h24v24H0V0z\" fill=\"none\"/>\n",
              "    <path d=\"M18.56 5.44l.94 2.06.94-2.06 2.06-.94-2.06-.94-.94-2.06-.94 2.06-2.06.94zm-11 1L8.5 8.5l.94-2.06 2.06-.94-2.06-.94L8.5 2.5l-.94 2.06-2.06.94zm10 10l.94 2.06.94-2.06 2.06-.94-2.06-.94-.94-2.06-.94 2.06-2.06.94z\"/><path d=\"M17.41 7.96l-1.37-1.37c-.4-.4-.92-.59-1.43-.59-.52 0-1.04.2-1.43.59L10.3 9.45l-7.72 7.72c-.78.78-.78 2.05 0 2.83L4 21.41c.39.39.9.59 1.41.59.51 0 1.02-.2 1.41-.59l7.78-7.78 2.81-2.81c.8-.78.8-2.07 0-2.86zM5.41 20L4 18.59l7.72-7.72 1.47 1.35L5.41 20z\"/>\n",
              "  </svg>\n",
              "      </button>\n",
              "      \n",
              "  <style>\n",
              "    .colab-df-container {\n",
              "      display:flex;\n",
              "      flex-wrap:wrap;\n",
              "      gap: 12px;\n",
              "    }\n",
              "\n",
              "    .colab-df-convert {\n",
              "      background-color: #E8F0FE;\n",
              "      border: none;\n",
              "      border-radius: 50%;\n",
              "      cursor: pointer;\n",
              "      display: none;\n",
              "      fill: #1967D2;\n",
              "      height: 32px;\n",
              "      padding: 0 0 0 0;\n",
              "      width: 32px;\n",
              "    }\n",
              "\n",
              "    .colab-df-convert:hover {\n",
              "      background-color: #E2EBFA;\n",
              "      box-shadow: 0px 1px 2px rgba(60, 64, 67, 0.3), 0px 1px 3px 1px rgba(60, 64, 67, 0.15);\n",
              "      fill: #174EA6;\n",
              "    }\n",
              "\n",
              "    [theme=dark] .colab-df-convert {\n",
              "      background-color: #3B4455;\n",
              "      fill: #D2E3FC;\n",
              "    }\n",
              "\n",
              "    [theme=dark] .colab-df-convert:hover {\n",
              "      background-color: #434B5C;\n",
              "      box-shadow: 0px 1px 3px 1px rgba(0, 0, 0, 0.15);\n",
              "      filter: drop-shadow(0px 1px 2px rgba(0, 0, 0, 0.3));\n",
              "      fill: #FFFFFF;\n",
              "    }\n",
              "  </style>\n",
              "\n",
              "      <script>\n",
              "        const buttonEl =\n",
              "          document.querySelector('#df-402dc4f4-367e-4875-8d99-e1588f6bfa8c button.colab-df-convert');\n",
              "        buttonEl.style.display =\n",
              "          google.colab.kernel.accessAllowed ? 'block' : 'none';\n",
              "\n",
              "        async function convertToInteractive(key) {\n",
              "          const element = document.querySelector('#df-402dc4f4-367e-4875-8d99-e1588f6bfa8c');\n",
              "          const dataTable =\n",
              "            await google.colab.kernel.invokeFunction('convertToInteractive',\n",
              "                                                     [key], {});\n",
              "          if (!dataTable) return;\n",
              "\n",
              "          const docLinkHtml = 'Like what you see? Visit the ' +\n",
              "            '<a target=\"_blank\" href=https://colab.research.google.com/notebooks/data_table.ipynb>data table notebook</a>'\n",
              "            + ' to learn more about interactive tables.';\n",
              "          element.innerHTML = '';\n",
              "          dataTable['output_type'] = 'display_data';\n",
              "          await google.colab.output.renderOutput(dataTable, element);\n",
              "          const docLink = document.createElement('div');\n",
              "          docLink.innerHTML = docLinkHtml;\n",
              "          element.appendChild(docLink);\n",
              "        }\n",
              "      </script>\n",
              "    </div>\n",
              "  </div>\n",
              "  "
            ],
            "text/plain": [
              "       loss  accuracy  val_loss  val_accuracy\n",
              "0  1.891123  0.405333  1.334322        0.7160\n",
              "1  1.114512  0.758667  0.908951        0.8004\n",
              "2  0.804084  0.822667  0.741489        0.8220\n",
              "3  0.652732  0.854667  0.653200        0.8332\n",
              "4  0.557097  0.876000  0.605577        0.8364"
            ]
          },
          "metadata": {},
          "execution_count": 11
        }
      ],
      "source": [
        "curve_data=pd.DataFrame(history_model_0.history)\n",
        "curve_data"
      ]
    },
    {
      "cell_type": "code",
      "execution_count": 12,
      "metadata": {
        "colab": {
          "base_uri": "https://localhost:8080/",
          "height": 282
        },
        "id": "-CRz6oqYlg2u",
        "outputId": "a8f6a442-22b7-4107-f5d0-29ed6dbc13eb"
      },
      "outputs": [
        {
          "output_type": "execute_result",
          "data": {
            "text/plain": [
              "<matplotlib.axes._subplots.AxesSubplot at 0x7f314da7fc10>"
            ]
          },
          "metadata": {},
          "execution_count": 12
        },
        {
          "output_type": "display_data",
          "data": {
            "image/png": "[encoded data removed]",
            "text/plain": [
              "<Figure size 432x288 with 1 Axes>"
            ]
          },
          "metadata": {
            "needs_background": "light"
          }
        }
      ],
      "source": [
        "curve_data.plot()"
      ]
    },
    {
      "cell_type": "markdown",
      "metadata": {
        "id": "0-kP1-2CkYEr"
      },
      "source": [
        "### getting feature vector for our model:"
      ]
    },
    {
      "cell_type": "code",
      "execution_count": 13,
      "metadata": {
        "id": "aRGDR6-pQ1zS"
      },
      "outputs": [],
      "source": [
        "import zipfile \n",
        "import tensorflow as tf\n",
        "import pandas as pd\n",
        "import numpy as np\n",
        "import tensorflow_hub as hub\n",
        "import os\n",
        "import matplotlib.pyplot as plt\n",
        "import pathlib\n",
        "import datetime"
      ]
    },
    {
      "cell_type": "code",
      "execution_count": 14,
      "metadata": {
        "colab": {
          "base_uri": "https://localhost:8080/"
        },
        "id": "HGAr2DqMmFWz",
        "outputId": "9efd5c63-21ec-42ba-e71d-4ab34e42362e"
      },
      "outputs": [
        {
          "output_type": "stream",
          "name": "stdout",
          "text": [
            "--2022-02-14 13:25:42--  https://storage.googleapis.com/ztm_tf_course/food_vision/10_food_classes_10_percent.zip\n",
            "Resolving storage.googleapis.com (storage.googleapis.com)... 142.250.125.128, 142.250.136.128, 142.250.148.128, ...\n",
            "Connecting to storage.googleapis.com (storage.googleapis.com)|142.250.125.128|:443... connected.\n",
            "HTTP request sent, awaiting response... 200 OK\n",
            "Length: 168546183 (161M) [application/zip]\n",
            "Saving to: ‘10_food_classes_10_percent.zip.1’\n",
            "\n",
            "10_food_classes_10_ 100%[===================>] 160.74M   116MB/s    in 1.4s    \n",
            "\n",
            "2022-02-14 13:25:43 (116 MB/s) - ‘10_food_classes_10_percent.zip.1’ saved [168546183/168546183]\n",
            "\n"
          ]
        }
      ],
      "source": [
        "# Get 10% of the data of the 10 classes\n",
        "!wget https://storage.googleapis.com/ztm_tf_course/food_vision/10_food_classes_10_percent.zip \n",
        "\n",
        "## unzipping the file\n",
        "unizip=zipfile.ZipFile('10_food_classes_10_percent.zip')\n",
        "unizip.extractall()\n",
        "unizip.close()\n"
      ]
    },
    {
      "cell_type": "code",
      "execution_count": 15,
      "metadata": {
        "id": "XRZe_03PkhlN"
      },
      "outputs": [],
      "source": [
        "train_dir='10_food_classes_10_percent/train'\n",
        "test_dir='10_food_classes_10_percent/test'"
      ]
    },
    {
      "cell_type": "code",
      "execution_count": 16,
      "metadata": {
        "colab": {
          "base_uri": "https://localhost:8080/"
        },
        "id": "nrnxwra-k_fB",
        "outputId": "8e5c3b95-3f91-49c7-d4b6-de89fb462d35"
      },
      "outputs": [
        {
          "output_type": "stream",
          "name": "stdout",
          "text": [
            "Found 750 files belonging to 10 classes.\n",
            "Found 2500 files belonging to 10 classes.\n"
          ]
        }
      ],
      "source": [
        "train_data=tf.keras.preprocessing.image_dataset_from_directory(    train_dir,\n",
        "                                                                         batch_size=32,\n",
        "                                                                            image_size=(224,224),\n",
        "                                                                                label_mode='categorical')\n",
        "\n",
        "test_data=tf.keras.preprocessing.image_dataset_from_directory(  test_dir,\n",
        "                                                                    batch_size=32,\n",
        "                                                                        image_size=(224,224),\n",
        "                                                                             label_mode='categorical')\n"
      ]
    },
    {
      "cell_type": "code",
      "execution_count": 17,
      "metadata": {
        "id": "x2BQXj4lmPO5"
      },
      "outputs": [],
      "source": [
        "data_aug=tf.keras.Sequential([ \n",
        "                              tf.keras.layers.RandomFlip('horizontal'),\n",
        "                              tf.keras.layers.RandomRotation(0.2),\n",
        "                              tf.keras.layers.RandomZoom(0.2),\n",
        "                              tf.keras.layers.RandomHeight(0.2),\n",
        "                              tf.keras.layers.Rescaling(1/255.)\n",
        "])"
      ]
    },
    {
      "cell_type": "code",
      "execution_count": 18,
      "metadata": {
        "id": "jX-Cg9pans8i"
      },
      "outputs": [],
      "source": [
        "base_model=tf.keras.applications.EfficientNetB0(include_top=False)\n",
        "base_model.trainable=False\n",
        "\n",
        "input=tf.keras.layers.Input(shape=(224,224,3),name='input_layer')\n",
        "\n",
        "x=data_aug(input)\n",
        "\n",
        "x=base_model(x,training=False)\n",
        "\n",
        "x=tf.keras.layers.GlobalAveragePooling2D()(x)\n",
        "\n",
        "output=tf.keras.layers.Dense(10,activation=\"sigmoid\")(x)\n",
        "\n",
        "model_1=tf.keras.Model(input,output)"
      ]
    },
    {
      "cell_type": "code",
      "execution_count": 19,
      "metadata": {
        "colab": {
          "base_uri": "https://localhost:8080/"
        },
        "id": "apbhNbVyQt11",
        "outputId": "0bbe4ac8-f737-4057-a6e6-0b2114612cdd"
      },
      "outputs": [
        {
          "output_type": "stream",
          "name": "stderr",
          "text": [
            "/usr/local/lib/python3.7/dist-packages/keras/engine/functional.py:1410: CustomMaskWarning: Custom mask layers require a config and must override get_config. When loading, the custom mask layer must be passed to the custom_objects argument.\n",
            "  layer_config = serialize_layer_fn(layer)\n"
          ]
        },
        {
          "output_type": "stream",
          "name": "stdout",
          "text": [
            "Epoch 1/4\n",
            "24/24 [==============================] - 30s 895ms/step - loss: 2.3217 - accuracy: 0.0973 - val_loss: 2.3066 - val_accuracy: 0.1000\n",
            "Epoch 2/4\n",
            "24/24 [==============================] - 16s 676ms/step - loss: 2.3276 - accuracy: 0.0813 - val_loss: 2.3044 - val_accuracy: 0.1000\n",
            "Epoch 3/4\n",
            "24/24 [==============================] - 26s 1s/step - loss: 2.3179 - accuracy: 0.0787 - val_loss: 2.3047 - val_accuracy: 0.1000\n",
            "Epoch 4/4\n",
            "24/24 [==============================] - 15s 605ms/step - loss: 2.3167 - accuracy: 0.0920 - val_loss: 2.3039 - val_accuracy: 0.0876\n"
          ]
        }
      ],
      "source": [
        "model_1.compile(  loss=tf.keras.losses.CategoricalCrossentropy(),\n",
        "                         optimizer=tf.keras.optimizers.Adam(),\n",
        "                                        metrics=['accuracy'],\n",
        "                )\n",
        "\n",
        "history_model_1=model_1.fit(train_data,\n",
        "                                epochs=4,\n",
        "                                    validation_steps=len(test_data),\n",
        "                                        steps_per_epoch=len(train_data),\n",
        "                                            validation_data=test_data,\n",
        "                                                callbacks=[tf.keras.callbacks.TensorBoard('10_food_classes_10_percent/effBO_101FooD_10percent '+ \n",
        "                                                                                              datetime.datetime.now().strftime('%Y%m%d-%H%M%S'))]\n",
        "                            )"
      ]
    },
    {
      "cell_type": "code",
      "execution_count": 20,
      "metadata": {
        "id": "ld4w-alTTo0R"
      },
      "outputs": [],
      "source": [
        "# Create a functional model with data augmentation\n",
        "import tensorflow as tf\n",
        "from tensorflow.keras import layers\n",
        "from tensorflow.keras.layers.experimental import preprocessing\n",
        "from tensorflow.keras.models import Sequential\n",
        "\n",
        "# Build data augmentation layer\n",
        "data_augmentation = Sequential([\n",
        "  preprocessing.RandomFlip('horizontal'),\n",
        "  preprocessing.RandomHeight(0.2),\n",
        "  preprocessing.RandomWidth(0.2),\n",
        "  preprocessing.RandomZoom(0.2),\n",
        "  preprocessing.RandomRotation(0.2),\n",
        "  # preprocessing.Rescaling(1./255) # keep for ResNet50V2, remove for EfficientNet                 \n",
        "], name=\"data_augmentation\")\n",
        "\n",
        "# Setup the input shape to our model\n",
        "input_shape = (224, 224, 3)\n",
        "\n",
        "# Create a frozen base model\n",
        "base_model = tf.keras.applications.EfficientNetB0(include_top=False)\n",
        "base_model.trainable = False\n",
        "\n",
        "# Create input and output layers\n",
        "inputs = layers.Input(shape=input_shape, name=\"input_layer\") # create input layer\n",
        "x = data_augmentation(inputs) # augment our training images\n",
        "x = base_model(x, training=False) # pass augmented images to base model but keep it in inference mode, so batchnorm layers don't get updated: https://keras.io/guides/transfer_learning/#build-a-model \n",
        "x = layers.GlobalAveragePooling2D(name=\"global_average_pooling_layer\")(x)\n",
        "outputs = layers.Dense(10, activation=\"softmax\", name=\"output_layer\")(x)\n",
        "model_2 = tf.keras.Model(inputs, outputs)\n",
        "\n",
        "# Compile\n",
        "model_2.compile(loss=\"categorical_crossentropy\",\n",
        "              optimizer=tf.keras.optimizers.Adam(learning_rate=0.001), # use Adam optimizer with base learning rate\n",
        "              metrics=[\"accuracy\"])"
      ]
    },
    {
      "cell_type": "code",
      "execution_count": 21,
      "metadata": {
        "id": "-MDDfx9_YcN8",
        "colab": {
          "base_uri": "https://localhost:8080/"
        },
        "outputId": "020f7362-6bdd-412a-c1c9-cbf96b0d1ee3"
      },
      "outputs": [
        {
          "output_type": "stream",
          "name": "stderr",
          "text": [
            "/usr/local/lib/python3.7/dist-packages/keras/engine/functional.py:1410: CustomMaskWarning: Custom mask layers require a config and must override get_config. When loading, the custom mask layer must be passed to the custom_objects argument.\n",
            "  layer_config = serialize_layer_fn(layer)\n"
          ]
        },
        {
          "output_type": "stream",
          "name": "stdout",
          "text": [
            "Epoch 1/5\n",
            "24/24 [==============================] - ETA: 0s - loss: 2.0766 - accuracy: 0.3147\n",
            "Epoch 00001: val_loss improved from inf to 1.59292, saving model to ten_percent_model_checkpoints_weights/checkpoint.ckpt\n",
            "24/24 [==============================] - 28s 856ms/step - loss: 2.0766 - accuracy: 0.3147 - val_loss: 1.5929 - val_accuracy: 0.5691\n",
            "Epoch 2/5\n",
            "24/24 [==============================] - ETA: 0s - loss: 1.3977 - accuracy: 0.6613\n",
            "Epoch 00002: val_loss improved from 1.59292 to 1.10364, saving model to ten_percent_model_checkpoints_weights/checkpoint.ckpt\n",
            "24/24 [==============================] - 14s 578ms/step - loss: 1.3977 - accuracy: 0.6613 - val_loss: 1.1036 - val_accuracy: 0.7632\n",
            "Epoch 3/5\n",
            "24/24 [==============================] - ETA: 0s - loss: 1.1043 - accuracy: 0.7440\n",
            "Epoch 00003: val_loss improved from 1.10364 to 0.91844, saving model to ten_percent_model_checkpoints_weights/checkpoint.ckpt\n",
            "24/24 [==============================] - 14s 565ms/step - loss: 1.1043 - accuracy: 0.7440 - val_loss: 0.9184 - val_accuracy: 0.7664\n",
            "Epoch 4/5\n",
            "24/24 [==============================] - ETA: 0s - loss: 0.9332 - accuracy: 0.7693\n",
            "Epoch 00004: val_loss improved from 0.91844 to 0.78726, saving model to ten_percent_model_checkpoints_weights/checkpoint.ckpt\n",
            "24/24 [==============================] - 16s 649ms/step - loss: 0.9332 - accuracy: 0.7693 - val_loss: 0.7873 - val_accuracy: 0.8026\n",
            "Epoch 5/5\n",
            "24/24 [==============================] - ETA: 0s - loss: 0.8001 - accuracy: 0.8013\n",
            "Epoch 00005: val_loss improved from 0.78726 to 0.70158, saving model to ten_percent_model_checkpoints_weights/checkpoint.ckpt\n",
            "24/24 [==============================] - 15s 617ms/step - loss: 0.8001 - accuracy: 0.8013 - val_loss: 0.7016 - val_accuracy: 0.8240\n"
          ]
        }
      ],
      "source": [
        "#Setup checkpoint path\n",
        "checkpoint_path = \"ten_percent_model_checkpoints_weights/checkpoint.ckpt\" # note: remember saving directly to Colab is temporary\n",
        "\n",
        "# Create a ModelCheckpoint callback that saves the model's weights only\n",
        "checkpoint_callback = tf.keras.callbacks.ModelCheckpoint(filepath=checkpoint_path,\n",
        "                                                         save_weights_only=True, # set to False to save the entire model\n",
        "                                                         save_best_only=True, \n",
        "                                                      save_freq=\"epoch\", # save every epoch\n",
        "                                                         verbose=1)\n",
        "#Setup callback path\n",
        "dir_call='10_food_classes_10_percent/effBO_101FooD_10percent '+datetime.datetime.now().strftime('%Y%m%d-%H%M%S')\n",
        "\n",
        "# creating the callback functions:\n",
        "callback= tf.keras.callbacks.TensorBoard(dir_call)\n",
        "\n",
        "\n",
        "# Fit the model saving checkpoints every epoch\n",
        "initial_epochs = 5\n",
        "history_10_percent_data_aug = model_2.fit(train_data,\n",
        "                                          epochs=initial_epochs,\n",
        "                                          validation_data=test_data,\n",
        "                                          validation_steps=int(0.25 * len(test_data)), # do less steps per validation (quicker)\n",
        "                                          callbacks=[callback, \n",
        "                                                     checkpoint_callback])"
      ]
    },
    {
      "cell_type": "code",
      "source": [
        "pd.DataFrame(history_10_percent_data_aug.history).plot()"
      ],
      "metadata": {
        "colab": {
          "base_uri": "https://localhost:8080/",
          "height": 282
        },
        "id": "a9IE5Dvfdt3T",
        "outputId": "c5c67af4-00f5-4636-ed72-14f623b57e43"
      },
      "execution_count": 22,
      "outputs": [
        {
          "output_type": "execute_result",
          "data": {
            "text/plain": [
              "<matplotlib.axes._subplots.AxesSubplot at 0x7f30d82b9c50>"
            ]
          },
          "metadata": {},
          "execution_count": 22
        },
        {
          "output_type": "display_data",
          "data": {
            "image/png": "[encoded data removed]",
            "text/plain": [
              "<Figure size 432x288 with 1 Axes>"
            ]
          },
          "metadata": {
            "needs_background": "light"
          }
        }
      ]
    },
    {
      "cell_type": "code",
      "source": [
        "model_2.summary()"
      ],
      "metadata": {
        "id": "_31WtAYVd2Z9",
        "colab": {
          "base_uri": "https://localhost:8080/"
        },
        "outputId": "16a2efa2-3cf4-4475-a88e-ce50c8a94e42"
      },
      "execution_count": 23,
      "outputs": [
        {
          "output_type": "stream",
          "name": "stdout",
          "text": [
            "Model: \"model_2\"\n",
            "_________________________________________________________________\n",
            " Layer (type)                Output Shape              Param #   \n",
            "=================================================================\n",
            " input_layer (InputLayer)    [(None, 224, 224, 3)]     0         \n",
            "                                                                 \n",
            " data_augmentation (Sequenti  (None, None, None, 3)    0         \n",
            " al)                                                             \n",
            "                                                                 \n",
            " efficientnetb0 (Functional)  (None, None, None, 1280)  4049571  \n",
            "                                                                 \n",
            " global_average_pooling_laye  (None, 1280)             0         \n",
            " r (GlobalAveragePooling2D)                                      \n",
            "                                                                 \n",
            " output_layer (Dense)        (None, 10)                12810     \n",
            "                                                                 \n",
            "=================================================================\n",
            "Total params: 4,062,381\n",
            "Trainable params: 12,810\n",
            "Non-trainable params: 4,049,571\n",
            "_________________________________________________________________\n"
          ]
        }
      ]
    },
    {
      "cell_type": "code",
      "source": [
        "model_2.layers"
      ],
      "metadata": {
        "id": "07T2s2lpnkdJ",
        "colab": {
          "base_uri": "https://localhost:8080/"
        },
        "outputId": "03287485-4e24-4b38-ff1f-828452352c9c"
      },
      "execution_count": 24,
      "outputs": [
        {
          "output_type": "execute_result",
          "data": {
            "text/plain": [
              "[<keras.engine.input_layer.InputLayer at 0x7f30de0cda10>,\n",
              " <keras.engine.sequential.Sequential at 0x7f30de0cdc10>,\n",
              " <keras.engine.functional.Functional at 0x7f314cabedd0>,\n",
              " <keras.layers.pooling.GlobalAveragePooling2D at 0x7f314cabee90>,\n",
              " <keras.layers.core.dense.Dense at 0x7f314ca8e750>]"
            ]
          },
          "metadata": {},
          "execution_count": 24
        }
      ]
    },
    {
      "cell_type": "code",
      "source": [
        "## checking the whole base model:\n",
        "base_model.layers"
      ],
      "metadata": {
        "id": "C13aR9DuoGzp",
        "colab": {
          "base_uri": "https://localhost:8080/"
        },
        "outputId": "d5cef8ef-79e6-4078-ecc1-223fc01ad59f"
      },
      "execution_count": 25,
      "outputs": [
        {
          "output_type": "execute_result",
          "data": {
            "text/plain": [
              "[<keras.engine.input_layer.InputLayer at 0x7f30de0cded0>,\n",
              " <keras.layers.preprocessing.image_preprocessing.Rescaling at 0x7f314d9a3310>,\n",
              " <keras.layers.preprocessing.normalization.Normalization at 0x7f30d8b12290>,\n",
              " <keras.layers.convolutional.ZeroPadding2D at 0x7f30d8b11a10>,\n",
              " <keras.layers.convolutional.Conv2D at 0x7f30d8b1ea90>,\n",
              " <keras.layers.normalization.batch_normalization.BatchNormalization at 0x7f30d8b1ea50>,\n",
              " <keras.layers.core.activation.Activation at 0x7f30d8b12410>,\n",
              " <keras.layers.convolutional.DepthwiseConv2D at 0x7f30d8b27fd0>,\n",
              " <keras.layers.normalization.batch_normalization.BatchNormalization at 0x7f30d8b2ce50>,\n",
              " <keras.layers.core.activation.Activation at 0x7f30d8b24750>,\n",
              " <keras.layers.pooling.GlobalAveragePooling2D at 0x7f30d8b38310>,\n",
              " <keras.layers.core.reshape.Reshape at 0x7f314cefa210>,\n",
              " <keras.layers.convolutional.Conv2D at 0x7f30de0c9c10>,\n",
              " <keras.layers.convolutional.Conv2D at 0x7f314cf00990>,\n",
              " <keras.layers.merge.Multiply at 0x7f314cf0e590>,\n",
              " <keras.layers.convolutional.Conv2D at 0x7f314cf045d0>,\n",
              " <keras.layers.normalization.batch_normalization.BatchNormalization at 0x7f314cf19690>,\n",
              " <keras.layers.convolutional.Conv2D at 0x7f314cf24150>,\n",
              " <keras.layers.normalization.batch_normalization.BatchNormalization at 0x7f314cef3410>,\n",
              " <keras.layers.core.activation.Activation at 0x7f314cf270d0>,\n",
              " <keras.layers.convolutional.ZeroPadding2D at 0x7f314cf001d0>,\n",
              " <keras.layers.convolutional.DepthwiseConv2D at 0x7f314cebe210>,\n",
              " <keras.layers.normalization.batch_normalization.BatchNormalization at 0x7f314ceb7350>,\n",
              " <keras.layers.core.activation.Activation at 0x7f314cec3d10>,\n",
              " <keras.layers.pooling.GlobalAveragePooling2D at 0x7f314cec9a90>,\n",
              " <keras.layers.core.reshape.Reshape at 0x7f314ced3610>,\n",
              " <keras.layers.convolutional.Conv2D at 0x7f314ceda390>,\n",
              " <keras.layers.convolutional.Conv2D at 0x7f314cec9890>,\n",
              " <keras.layers.merge.Multiply at 0x7f314cee7ad0>,\n",
              " <keras.layers.convolutional.Conv2D at 0x7f314cee2310>,\n",
              " <keras.layers.normalization.batch_normalization.BatchNormalization at 0x7f314cee1c10>,\n",
              " <keras.layers.convolutional.Conv2D at 0x7f314ced3050>,\n",
              " <keras.layers.normalization.batch_normalization.BatchNormalization at 0x7f314ce78990>,\n",
              " <keras.layers.core.activation.Activation at 0x7f314ce78ed0>,\n",
              " <keras.layers.convolutional.DepthwiseConv2D at 0x7f314ce75b10>,\n",
              " <keras.layers.normalization.batch_normalization.BatchNormalization at 0x7f314ce88710>,\n",
              " <keras.layers.core.activation.Activation at 0x7f314ce8dfd0>,\n",
              " <keras.layers.pooling.GlobalAveragePooling2D at 0x7f314ce7ccd0>,\n",
              " <keras.layers.core.reshape.Reshape at 0x7f314ce751d0>,\n",
              " <keras.layers.convolutional.Conv2D at 0x7f314cf1bf50>,\n",
              " <keras.layers.convolutional.Conv2D at 0x7f314ce753d0>,\n",
              " <keras.layers.merge.Multiply at 0x7f30d8b1e6d0>,\n",
              " <keras.layers.convolutional.Conv2D at 0x7f314ce7c6d0>,\n",
              " <keras.layers.normalization.batch_normalization.BatchNormalization at 0x7f314ce95390>,\n",
              " <keras.layers.core.dropout.Dropout at 0x7f314ce98ed0>,\n",
              " <keras.layers.merge.Add at 0x7f314ce9bd10>,\n",
              " <keras.layers.convolutional.Conv2D at 0x7f314cea6bd0>,\n",
              " <keras.layers.normalization.batch_normalization.BatchNormalization at 0x7f314ce95c50>,\n",
              " <keras.layers.core.activation.Activation at 0x7f314ce93950>,\n",
              " <keras.layers.convolutional.ZeroPadding2D at 0x7f314ce39cd0>,\n",
              " <keras.layers.convolutional.DepthwiseConv2D at 0x7f314ce392d0>,\n",
              " <keras.layers.normalization.batch_normalization.BatchNormalization at 0x7f314ceab2d0>,\n",
              " <keras.layers.core.activation.Activation at 0x7f314ce42790>,\n",
              " <keras.layers.pooling.GlobalAveragePooling2D at 0x7f314ce42b10>,\n",
              " <keras.layers.core.reshape.Reshape at 0x7f314ceabf10>,\n",
              " <keras.layers.convolutional.Conv2D at 0x7f314ce34450>,\n",
              " <keras.layers.convolutional.Conv2D at 0x7f314ce52850>,\n",
              " <keras.layers.merge.Multiply at 0x7f314ce53310>,\n",
              " <keras.layers.convolutional.Conv2D at 0x7f314ce4aad0>,\n",
              " <keras.layers.normalization.batch_normalization.BatchNormalization at 0x7f314ce63a90>,\n",
              " <keras.layers.convolutional.Conv2D at 0x7f314ce452d0>,\n",
              " <keras.layers.normalization.batch_normalization.BatchNormalization at 0x7f314ce6c450>,\n",
              " <keras.layers.core.activation.Activation at 0x7f314cdf7110>,\n",
              " <keras.layers.convolutional.DepthwiseConv2D at 0x7f314ce07890>,\n",
              " <keras.layers.normalization.batch_normalization.BatchNormalization at 0x7f314ce01fd0>,\n",
              " <keras.layers.core.activation.Activation at 0x7f314ce0da50>,\n",
              " <keras.layers.pooling.GlobalAveragePooling2D at 0x7f314ce08ed0>,\n",
              " <keras.layers.core.reshape.Reshape at 0x7f314ce19910>,\n",
              " <keras.layers.convolutional.Conv2D at 0x7f314ce158d0>,\n",
              " <keras.layers.convolutional.Conv2D at 0x7f314ce21950>,\n",
              " <keras.layers.merge.Multiply at 0x7f314ce2ce90>,\n",
              " <keras.layers.convolutional.Conv2D at 0x7f314cdb1750>,\n",
              " <keras.layers.normalization.batch_normalization.BatchNormalization at 0x7f314cdb6f90>,\n",
              " <keras.layers.core.dropout.Dropout at 0x7f314cdb4490>,\n",
              " <keras.layers.merge.Add at 0x7f314cdc4c10>,\n",
              " <keras.layers.convolutional.Conv2D at 0x7f314cdbdb90>,\n",
              " <keras.layers.normalization.batch_normalization.BatchNormalization at 0x7f314cdcfc90>,\n",
              " <keras.layers.core.activation.Activation at 0x7f314cdd68d0>,\n",
              " <keras.layers.convolutional.ZeroPadding2D at 0x7f314cdd3950>,\n",
              " <keras.layers.convolutional.DepthwiseConv2D at 0x7f314cdbda50>,\n",
              " <keras.layers.normalization.batch_normalization.BatchNormalization at 0x7f314ce15f10>,\n",
              " <keras.layers.core.activation.Activation at 0x7f314ce34ed0>,\n",
              " <keras.layers.pooling.GlobalAveragePooling2D at 0x7f314ce66f50>,\n",
              " <keras.layers.core.reshape.Reshape at 0x7f314ce95690>,\n",
              " <keras.layers.convolutional.Conv2D at 0x7f314cf14590>,\n",
              " <keras.layers.convolutional.Conv2D at 0x7f30d8b16d10>,\n",
              " <keras.layers.merge.Multiply at 0x7f314cde7590>,\n",
              " <keras.layers.convolutional.Conv2D at 0x7f314cde1650>,\n",
              " <keras.layers.normalization.batch_normalization.BatchNormalization at 0x7f314cde8050>,\n",
              " <keras.layers.convolutional.Conv2D at 0x7f314cd72810>,\n",
              " <keras.layers.normalization.batch_normalization.BatchNormalization at 0x7f314cd82590>,\n",
              " <keras.layers.core.activation.Activation at 0x7f314cd82450>,\n",
              " <keras.layers.convolutional.DepthwiseConv2D at 0x7f314cd7d950>,\n",
              " <keras.layers.normalization.batch_normalization.BatchNormalization at 0x7f314cd91dd0>,\n",
              " <keras.layers.core.activation.Activation at 0x7f314cd7d590>,\n",
              " <keras.layers.pooling.GlobalAveragePooling2D at 0x7f314cd8c950>,\n",
              " <keras.layers.core.reshape.Reshape at 0x7f314cda7490>,\n",
              " <keras.layers.convolutional.Conv2D at 0x7f314cdad210>,\n",
              " <keras.layers.convolutional.Conv2D at 0x7f314cd8ca90>,\n",
              " <keras.layers.merge.Multiply at 0x7f314cd37f10>,\n",
              " <keras.layers.convolutional.Conv2D at 0x7f314cd40690>,\n",
              " <keras.layers.normalization.batch_normalization.BatchNormalization at 0x7f314cd47190>,\n",
              " <keras.layers.core.dropout.Dropout at 0x7f314cd4b490>,\n",
              " <keras.layers.merge.Add at 0x7f314cd4f510>,\n",
              " <keras.layers.convolutional.Conv2D at 0x7f314cd54f90>,\n",
              " <keras.layers.normalization.batch_normalization.BatchNormalization at 0x7f314cd4bd50>,\n",
              " <keras.layers.core.activation.Activation at 0x7f314cd4ffd0>,\n",
              " <keras.layers.convolutional.DepthwiseConv2D at 0x7f314cd69750>,\n",
              " <keras.layers.normalization.batch_normalization.BatchNormalization at 0x7f314cd69410>,\n",
              " <keras.layers.core.activation.Activation at 0x7f314ccf1f50>,\n",
              " <keras.layers.pooling.GlobalAveragePooling2D at 0x7f314ccfced0>,\n",
              " <keras.layers.core.reshape.Reshape at 0x7f314ccfc950>,\n",
              " <keras.layers.convolutional.Conv2D at 0x7f314ccf7490>,\n",
              " <keras.layers.convolutional.Conv2D at 0x7f314cd04d10>,\n",
              " <keras.layers.merge.Multiply at 0x7f314cd69250>,\n",
              " <keras.layers.convolutional.Conv2D at 0x7f314cd4ff10>,\n",
              " <keras.layers.normalization.batch_normalization.BatchNormalization at 0x7f314cd17b90>,\n",
              " <keras.layers.core.dropout.Dropout at 0x7f314cd17450>,\n",
              " <keras.layers.merge.Add at 0x7f314cd04e10>,\n",
              " <keras.layers.convolutional.Conv2D at 0x7f314cd4b7d0>,\n",
              " <keras.layers.normalization.batch_normalization.BatchNormalization at 0x7f314cdad6d0>,\n",
              " <keras.layers.core.activation.Activation at 0x7f314cd822d0>,\n",
              " <keras.layers.convolutional.DepthwiseConv2D at 0x7f314cd8cbd0>,\n",
              " <keras.layers.normalization.batch_normalization.BatchNormalization at 0x7f314ce60810>,\n",
              " <keras.layers.core.activation.Activation at 0x7f314cd1f190>,\n",
              " <keras.layers.pooling.GlobalAveragePooling2D at 0x7f314ccb51d0>,\n",
              " <keras.layers.core.reshape.Reshape at 0x7f314ccb8610>,\n",
              " <keras.layers.convolutional.Conv2D at 0x7f314ccba350>,\n",
              " <keras.layers.convolutional.Conv2D at 0x7f314ccc0410>,\n",
              " <keras.layers.merge.Multiply at 0x7f314ccc5150>,\n",
              " <keras.layers.convolutional.Conv2D at 0x7f314ccc5b10>,\n",
              " <keras.layers.normalization.batch_normalization.BatchNormalization at 0x7f314ccd1610>,\n",
              " <keras.layers.convolutional.Conv2D at 0x7f314cccdcd0>,\n",
              " <keras.layers.normalization.batch_normalization.BatchNormalization at 0x7f314ccde510>,\n",
              " <keras.layers.core.activation.Activation at 0x7f314cce65d0>,\n",
              " <keras.layers.convolutional.DepthwiseConv2D at 0x7f314cce0490>,\n",
              " <keras.layers.normalization.batch_normalization.BatchNormalization at 0x7f314cc72310>,\n",
              " <keras.layers.core.activation.Activation at 0x7f314cc7a150>,\n",
              " <keras.layers.pooling.GlobalAveragePooling2D at 0x7f314cc7a850>,\n",
              " <keras.layers.core.reshape.Reshape at 0x7f314cc84710>,\n",
              " <keras.layers.convolutional.Conv2D at 0x7f314cc75950>,\n",
              " <keras.layers.convolutional.Conv2D at 0x7f314cc8fbd0>,\n",
              " <keras.layers.merge.Multiply at 0x7f314cc94c90>,\n",
              " <keras.layers.convolutional.Conv2D at 0x7f314cc9b550>,\n",
              " <keras.layers.normalization.batch_normalization.BatchNormalization at 0x7f314cc8acd0>,\n",
              " <keras.layers.core.dropout.Dropout at 0x7f314cca47d0>,\n",
              " <keras.layers.merge.Add at 0x7f314cc9e9d0>,\n",
              " <keras.layers.convolutional.Conv2D at 0x7f314cca9bd0>,\n",
              " <keras.layers.normalization.batch_normalization.BatchNormalization at 0x7f314cc38c50>,\n",
              " <keras.layers.core.activation.Activation at 0x7f314cc3fb90>,\n",
              " <keras.layers.convolutional.DepthwiseConv2D at 0x7f314cc32a10>,\n",
              " <keras.layers.normalization.batch_normalization.BatchNormalization at 0x7f314cc4e7d0>,\n",
              " <keras.layers.core.activation.Activation at 0x7f314ccb06d0>,\n",
              " <keras.layers.pooling.GlobalAveragePooling2D at 0x7f314cc323d0>,\n",
              " <keras.layers.core.reshape.Reshape at 0x7f314cc58210>,\n",
              " <keras.layers.convolutional.Conv2D at 0x7f314cc61bd0>,\n",
              " <keras.layers.convolutional.Conv2D at 0x7f314cc5b190>,\n",
              " <keras.layers.merge.Multiply at 0x7f314cbf3910>,\n",
              " <keras.layers.convolutional.Conv2D at 0x7f314cbf9a10>,\n",
              " <keras.layers.normalization.batch_normalization.BatchNormalization at 0x7f314cbf6750>,\n",
              " <keras.layers.core.dropout.Dropout at 0x7f314cc58cd0>,\n",
              " <keras.layers.merge.Add at 0x7f314cc58f90>,\n",
              " <keras.layers.convolutional.Conv2D at 0x7f314cc75810>,\n",
              " <keras.layers.normalization.batch_normalization.BatchNormalization at 0x7f314cbf9750>,\n",
              " <keras.layers.core.activation.Activation at 0x7f314cc4e850>,\n",
              " <keras.layers.convolutional.ZeroPadding2D at 0x7f314cca4d10>,\n",
              " <keras.layers.convolutional.DepthwiseConv2D at 0x7f314cdbd3d0>,\n",
              " <keras.layers.normalization.batch_normalization.BatchNormalization at 0x7f314cc7e390>,\n",
              " <keras.layers.core.activation.Activation at 0x7f314cd11950>,\n",
              " <keras.layers.pooling.GlobalAveragePooling2D at 0x7f314cca9090>,\n",
              " <keras.layers.core.reshape.Reshape at 0x7f314cdad990>,\n",
              " <keras.layers.convolutional.Conv2D at 0x7f314cd7db50>,\n",
              " <keras.layers.convolutional.Conv2D at 0x7f314cc3fa10>,\n",
              " <keras.layers.merge.Multiply at 0x7f314cd40cd0>,\n",
              " <keras.layers.convolutional.Conv2D at 0x7f314cd40810>,\n",
              " <keras.layers.normalization.batch_normalization.BatchNormalization at 0x7f314cc06950>,\n",
              " <keras.layers.convolutional.Conv2D at 0x7f314cc1ba50>,\n",
              " <keras.layers.normalization.batch_normalization.BatchNormalization at 0x7f314cc2cf50>,\n",
              " <keras.layers.core.activation.Activation at 0x7f314cd118d0>,\n",
              " <keras.layers.convolutional.DepthwiseConv2D at 0x7f314cc29e90>,\n",
              " <keras.layers.normalization.batch_normalization.BatchNormalization at 0x7f314cd30dd0>,\n",
              " <keras.layers.core.activation.Activation at 0x7f314cd11990>,\n",
              " <keras.layers.pooling.GlobalAveragePooling2D at 0x7f314cc20410>,\n",
              " <keras.layers.core.reshape.Reshape at 0x7f314cbc2e50>,\n",
              " <keras.layers.convolutional.Conv2D at 0x7f314cbd42d0>,\n",
              " <keras.layers.convolutional.Conv2D at 0x7f314cc24150>,\n",
              " <keras.layers.merge.Multiply at 0x7f314cbd4c90>,\n",
              " <keras.layers.convolutional.Conv2D at 0x7f314cbb3550>,\n",
              " <keras.layers.normalization.batch_normalization.BatchNormalization at 0x7f314cbcedd0>,\n",
              " <keras.layers.core.dropout.Dropout at 0x7f314cbe3290>,\n",
              " <keras.layers.merge.Add at 0x7f314cbf0090>,\n",
              " <keras.layers.convolutional.Conv2D at 0x7f314cbe88d0>,\n",
              " <keras.layers.normalization.batch_normalization.BatchNormalization at 0x7f314cb7fe90>,\n",
              " <keras.layers.core.activation.Activation at 0x7f314cb7fe50>,\n",
              " <keras.layers.convolutional.DepthwiseConv2D at 0x7f314cb781d0>,\n",
              " <keras.layers.normalization.batch_normalization.BatchNormalization at 0x7f314cb91850>,\n",
              " <keras.layers.core.activation.Activation at 0x7f314cbdf950>,\n",
              " <keras.layers.pooling.GlobalAveragePooling2D at 0x7f314cb91ed0>,\n",
              " <keras.layers.core.reshape.Reshape at 0x7f314cb76c50>,\n",
              " <keras.layers.convolutional.Conv2D at 0x7f314cba80d0>,\n",
              " <keras.layers.convolutional.Conv2D at 0x7f314cbf0810>,\n",
              " <keras.layers.merge.Multiply at 0x7f314cb34910>,\n",
              " <keras.layers.convolutional.Conv2D at 0x7f314cb34a50>,\n",
              " <keras.layers.normalization.batch_normalization.BatchNormalization at 0x7f314cb38350>,\n",
              " <keras.layers.core.dropout.Dropout at 0x7f314cb386d0>,\n",
              " <keras.layers.merge.Add at 0x7f314cbf0990>,\n",
              " <keras.layers.convolutional.Conv2D at 0x7f314cbdb190>,\n",
              " <keras.layers.normalization.batch_normalization.BatchNormalization at 0x7f314cbe3ad0>,\n",
              " <keras.layers.core.activation.Activation at 0x7f314cb88650>,\n",
              " <keras.layers.convolutional.DepthwiseConv2D at 0x7f314cba0290>,\n",
              " <keras.layers.normalization.batch_normalization.BatchNormalization at 0x7f314cbb8f90>,\n",
              " <keras.layers.core.activation.Activation at 0x7f314cbc2350>,\n",
              " <keras.layers.pooling.GlobalAveragePooling2D at 0x7f314cc08990>,\n",
              " <keras.layers.core.reshape.Reshape at 0x7f314cb38390>,\n",
              " <keras.layers.convolutional.Conv2D at 0x7f314cba8d50>,\n",
              " <keras.layers.convolutional.Conv2D at 0x7f314cb78a10>,\n",
              " <keras.layers.merge.Multiply at 0x7f314cb4f510>,\n",
              " <keras.layers.convolutional.Conv2D at 0x7f314cba0750>,\n",
              " <keras.layers.normalization.batch_normalization.BatchNormalization at 0x7f314cb4f790>,\n",
              " <keras.layers.core.dropout.Dropout at 0x7f314cb60f50>,\n",
              " <keras.layers.merge.Add at 0x7f314cb66e50>,\n",
              " <keras.layers.convolutional.Conv2D at 0x7f314cb60b90>,\n",
              " <keras.layers.normalization.batch_normalization.BatchNormalization at 0x7f314caf5f90>,\n",
              " <keras.layers.core.activation.Activation at 0x7f314cb6c090>,\n",
              " <keras.layers.convolutional.DepthwiseConv2D at 0x7f314cb66950>,\n",
              " <keras.layers.normalization.batch_normalization.BatchNormalization at 0x7f314cb05450>,\n",
              " <keras.layers.core.activation.Activation at 0x7f314cafb610>,\n",
              " <keras.layers.pooling.GlobalAveragePooling2D at 0x7f314cb05410>,\n",
              " <keras.layers.core.reshape.Reshape at 0x7f314cc2c990>,\n",
              " <keras.layers.convolutional.Conv2D at 0x7f314caf1cd0>,\n",
              " <keras.layers.convolutional.Conv2D at 0x7f314cb6c110>,\n",
              " <keras.layers.merge.Multiply at 0x7f314cb2f910>,\n",
              " <keras.layers.convolutional.Conv2D at 0x7f314cab3610>,\n",
              " <keras.layers.normalization.batch_normalization.BatchNormalization at 0x7f314cb15990>,\n",
              " <keras.layers.convolutional.Conv2D at 0x7f30d8b24a10>,\n",
              " <keras.layers.normalization.batch_normalization.BatchNormalization at 0x7f314cb15450>,\n",
              " <keras.layers.core.activation.Activation at 0x7f314cab7f90>]"
            ]
          },
          "metadata": {},
          "execution_count": 25
        }
      ]
    },
    {
      "cell_type": "code",
      "source": [
        "# Check which layers are tuneable (trainable)\n",
        "for index, layer in enumerate(base_model.layers):\n",
        "  print(index,layer.name, layer.trainable)"
      ],
      "metadata": {
        "id": "BSC7MKkroPRE"
      },
      "execution_count": null,
      "outputs": []
    },
    {
      "cell_type": "markdown",
      "source": [
        "**TO begin fine-tuning, we'll unfreeze the entire base model by setting its trainable attribute to True. Then we'll refreeze every layer in the base model except for the last 10 by looping through them and setting their trainable attribute to False. Finally, we'll recompile the model.**"
      ],
      "metadata": {
        "id": "d-1sRAXOrBst"
      }
    },
    {
      "cell_type": "code",
      "source": [
        "base_model.trainable= True\n",
        "for layer in base_model.layers[:-10]:\n",
        "    layer.trainable=False"
      ],
      "metadata": {
        "id": "Z0wlre1-ak2R"
      },
      "execution_count": 28,
      "outputs": []
    },
    {
      "cell_type": "code",
      "source": [
        " #Check which layers are tuneable (trainable)\n",
        "for index, layer in enumerate(base_model.layers):\n",
        "  print(index,layer.name, layer.trainable)"
      ],
      "metadata": {
        "id": "VLnbvs7-hjGU"
      },
      "execution_count": null,
      "outputs": []
    },
    {
      "cell_type": "code",
      "source": [
        "history_base_10_unfreeze= model_2.fit(train_data,\n",
        "                                      epochs=10,\n",
        "                                      validation_data=test_data,\n",
        "                                    validation_steps=len(test_data),\n",
        "                                    initial_epoch= history_10_percent_data_aug.epoch[-1],\n",
        "                                     callbacks=[callback, \n",
        "                                                     checkpoint_callback])"
      ],
      "metadata": {
        "colab": {
          "base_uri": "https://localhost:8080/"
        },
        "id": "N2yAmIMjltm5",
        "outputId": "2c560bb4-ae1d-4cdf-9270-74fe4252873f"
      },
      "execution_count": 31,
      "outputs": [
        {
          "output_type": "stream",
          "name": "stderr",
          "text": [
            "/usr/local/lib/python3.7/dist-packages/keras/engine/functional.py:1410: CustomMaskWarning: Custom mask layers require a config and must override get_config. When loading, the custom mask layer must be passed to the custom_objects argument.\n",
            "  layer_config = serialize_layer_fn(layer)\n"
          ]
        },
        {
          "output_type": "stream",
          "name": "stdout",
          "text": [
            "Epoch 5/10\n",
            "24/24 [==============================] - ETA: 0s - loss: 0.7410 - accuracy: 0.8107\n",
            "Epoch 00005: val_loss improved from 0.70158 to 0.65888, saving model to ten_percent_model_checkpoints_weights/checkpoint.ckpt\n",
            "24/24 [==============================] - 22s 875ms/step - loss: 0.7410 - accuracy: 0.8107 - val_loss: 0.6589 - val_accuracy: 0.8208\n",
            "Epoch 6/10\n",
            "24/24 [==============================] - ETA: 0s - loss: 0.6809 - accuracy: 0.8147\n",
            "Epoch 00006: val_loss improved from 0.65888 to 0.62818, saving model to ten_percent_model_checkpoints_weights/checkpoint.ckpt\n",
            "24/24 [==============================] - 20s 823ms/step - loss: 0.6809 - accuracy: 0.8147 - val_loss: 0.6282 - val_accuracy: 0.8280\n",
            "Epoch 7/10\n",
            "24/24 [==============================] - ETA: 0s - loss: 0.6347 - accuracy: 0.8440\n",
            "Epoch 00007: val_loss improved from 0.62818 to 0.59886, saving model to ten_percent_model_checkpoints_weights/checkpoint.ckpt\n",
            "24/24 [==============================] - 19s 777ms/step - loss: 0.6347 - accuracy: 0.8440 - val_loss: 0.5989 - val_accuracy: 0.8336\n",
            "Epoch 8/10\n",
            "24/24 [==============================] - ETA: 0s - loss: 0.5737 - accuracy: 0.8600\n",
            "Epoch 00008: val_loss improved from 0.59886 to 0.57715, saving model to ten_percent_model_checkpoints_weights/checkpoint.ckpt\n",
            "24/24 [==============================] - 19s 789ms/step - loss: 0.5737 - accuracy: 0.8600 - val_loss: 0.5771 - val_accuracy: 0.8388\n",
            "Epoch 9/10\n",
            "24/24 [==============================] - ETA: 0s - loss: 0.5584 - accuracy: 0.8507\n",
            "Epoch 00009: val_loss improved from 0.57715 to 0.56632, saving model to ten_percent_model_checkpoints_weights/checkpoint.ckpt\n",
            "24/24 [==============================] - 20s 839ms/step - loss: 0.5584 - accuracy: 0.8507 - val_loss: 0.5663 - val_accuracy: 0.8364\n",
            "Epoch 10/10\n",
            "24/24 [==============================] - ETA: 0s - loss: 0.5361 - accuracy: 0.8707\n",
            "Epoch 00010: val_loss improved from 0.56632 to 0.55880, saving model to ten_percent_model_checkpoints_weights/checkpoint.ckpt\n",
            "24/24 [==============================] - 20s 814ms/step - loss: 0.5361 - accuracy: 0.8707 - val_loss: 0.5588 - val_accuracy: 0.8340\n"
          ]
        }
      ]
    }
  ],
  "metadata": {
    "accelerator": "GPU",
    "colab": {
      "name": "CNN- Functional API.ipynb",
      "provenance": [],
      "authorship_tag": "ABX9TyPs7MtsJdah6OS3sIu/Ci5W",
      "include_colab_link": true
    },
    "kernelspec": {
      "display_name": "Python 3",
      "name": "python3"
    },
    "language_info": {
      "name": "python"
    }
  },
  "nbformat": 4,
  "nbformat_minor": 0
}